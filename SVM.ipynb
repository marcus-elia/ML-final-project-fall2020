{
 "cells": [
  {
   "cell_type": "code",
   "execution_count": 1,
   "metadata": {},
   "outputs": [],
   "source": [
    "import numpy as np\n",
    "import pandas as pd\n",
    "import matplotlib.pyplot as plt\n",
    "\n",
    "# sklearn utilities\n",
    "from sklearn import datasets\n",
    "from sklearn.model_selection import train_test_split\n",
    "from sklearn.metrics import confusion_matrix, classification_report\n",
    "\n",
    "# sklearn models\n",
    "from sklearn.linear_model import LogisticRegression\n",
    "from sklearn.tree import DecisionTreeClassifier\n",
    "from sklearn.svm import SVC\n",
    "from sklearn.ensemble import RandomForestClassifier\n",
    "from sklearn.decomposition import PCA"
   ]
  },
  {
   "cell_type": "code",
   "execution_count": 2,
   "metadata": {},
   "outputs": [],
   "source": [
    "image_resolution = 384"
   ]
  },
  {
   "cell_type": "code",
   "execution_count": 3,
   "metadata": {},
   "outputs": [],
   "source": [
    "# load the dataset\n",
    "image_path = \"Car1Rotations/car1_{}_{}.png\".format(image_resolution, 0)\n",
    "digits = datasets.load_digits()\n",
    "data = []\n",
    "data2 = []\n",
    "for i in range(360):\n",
    "    image_path1 = \"Car1Rotations/car1_{}_{}.png\".format(image_resolution, i)\n",
    "    image_path2 = \"Car2Rotations/car2_{}_{}.png\".format(image_resolution, i)\n",
    "    img1 = plt.imread(image_path1)\n",
    "    img2 = plt.imread(image_path2)\n",
    "    rgb_weights = [0.2989, 0.5870, 0.1140]\n",
    "    grayscale_img1 = np.dot(img1, rgb_weights)\n",
    "    grayscale_img2 = np.dot(img2, rgb_weights)\n",
    "    img_flat1 = grayscale_img1.flatten()\n",
    "    img_flat2 = grayscale_img2.flatten()\n",
    "    data.append(img_flat1)\n",
    "    data2.append(img_flat2)"
   ]
  },
  {
   "cell_type": "code",
   "execution_count": 4,
   "metadata": {},
   "outputs": [
    {
     "name": "stdout",
     "output_type": "stream",
     "text": [
      "Shape of dataset1: (360, 147456)\n",
      "and shape of dataset2:(360, 147456)\n",
      " and target: (360,)\n"
     ]
    }
   ],
   "source": [
    "data = np.array(data)\n",
    "data2 = np.array(data2)\n",
    "target = []\n",
    "for i in range(360):\n",
    "    target.append(int(i/10))\n",
    "target = np.array(target)\n",
    "print('Shape of dataset1: {}\\nand shape of dataset2:{}\\n and target: {}'.format(data.shape, data2.shape, target.shape))"
   ]
  },
  {
   "cell_type": "code",
   "execution_count": 5,
   "metadata": {},
   "outputs": [
    {
     "data": {
      "image/png": "[encoded data removed]",
      "text/plain": [
       "<Figure size 432x288 with 4 Axes>"
      ]
     },
     "metadata": {
      "needs_background": "light"
     },
     "output_type": "display_data"
    }
   ],
   "source": [
    "#plot the data, which is just the images flattened into a 1-d array\n",
    "for i in range(0, 4):\n",
    "    plt.subplot(2, 4, i + 1)\n",
    "    plt.axis('off')\n",
    "    imside = int(np.sqrt(data[i,].shape[0]))\n",
    "    im1 = np.reshape(data[i,], (imside, imside))\n",
    "    plt.imshow(im1, cmap=plt.cm.gray_r, interpolation = 'nearest')\n",
    "    plt.title('Training: {}'.format(target[i]))\n",
    "plt.show()"
   ]
  },
  {
   "cell_type": "code",
   "execution_count": 6,
   "metadata": {},
   "outputs": [
    {
     "name": "stdout",
     "output_type": "stream",
     "text": [
      "Training data and target sizes: \n",
      "(270, 147456), (270,)\n",
      "Test data and target sizes: \n",
      "(90, 147456), (90,)\n"
     ]
    }
   ],
   "source": [
    "X_train, X_test, y_train, y_test = train_test_split(data,target,random_state=0)\n",
    "print('Training data and target sizes: \\n{}, {}'.format(X_train.shape, y_train.shape))\n",
    "print('Test data and target sizes: \\n{}, {}'.format(X_test.shape, y_test.shape))"
   ]
  },
  {
   "cell_type": "code",
   "execution_count": 7,
   "metadata": {},
   "outputs": [
    {
     "data": {
      "text/plain": [
       "SVC(gamma=0.001)"
      ]
     },
     "execution_count": 7,
     "metadata": {},
     "output_type": "execute_result"
    }
   ],
   "source": [
    "# Create a classifier: a support vector classifier\n",
    "classifier = SVC(gamma = 0.001)\n",
    "#fit to the training data\n",
    "classifier.fit(X_train, y_train)"
   ]
  },
  {
   "cell_type": "code",
   "execution_count": 8,
   "metadata": {},
   "outputs": [],
   "source": [
    "# now to predict the value of the rotation on the test data\n",
    "y_pred = classifier.predict(X_test)"
   ]
  },
  {
   "cell_type": "code",
   "execution_count": 9,
   "metadata": {
    "scrolled": true
   },
   "outputs": [
    {
     "name": "stdout",
     "output_type": "stream",
     "text": [
      "Classification report for classifier SVC(gamma=0.001):\n",
      "              precision    recall  f1-score   support\n",
      "\n",
      "           0       1.00      1.00      1.00         2\n",
      "           1       0.33      1.00      0.50         1\n",
      "           2       1.00      0.50      0.67         4\n",
      "           3       1.00      1.00      1.00         1\n",
      "           4       1.00      1.00      1.00         2\n",
      "           5       1.00      1.00      1.00         5\n",
      "           6       1.00      0.80      0.89         5\n",
      "           7       0.75      1.00      0.86         3\n",
      "           8       1.00      1.00      1.00         1\n",
      "           9       0.50      1.00      0.67         2\n",
      "          10       1.00      0.50      0.67         4\n",
      "          11       0.67      1.00      0.80         2\n",
      "          12       1.00      0.75      0.86         4\n",
      "          13       0.75      1.00      0.86         3\n",
      "          14       1.00      0.75      0.86         4\n",
      "          15       1.00      1.00      1.00         2\n",
      "          16       0.50      1.00      0.67         1\n",
      "          17       1.00      0.50      0.67         2\n",
      "          18       0.50      1.00      0.67         1\n",
      "          19       1.00      0.50      0.67         2\n",
      "          20       1.00      1.00      1.00         4\n",
      "          21       1.00      1.00      1.00         4\n",
      "          22       1.00      1.00      1.00         2\n",
      "          23       1.00      1.00      1.00         3\n",
      "          24       0.67      1.00      0.80         2\n",
      "          25       1.00      0.40      0.57         5\n",
      "          26       0.50      1.00      0.67         2\n",
      "          27       0.50      1.00      0.67         1\n",
      "          28       1.00      0.50      0.67         4\n",
      "          29       0.67      1.00      0.80         2\n",
      "          30       1.00      1.00      1.00         2\n",
      "          31       1.00      1.00      1.00         3\n",
      "          32       1.00      1.00      1.00         2\n",
      "          34       1.00      1.00      1.00         1\n",
      "          35       1.00      1.00      1.00         2\n",
      "\n",
      "    accuracy                           0.84        90\n",
      "   macro avg       0.87      0.89      0.84        90\n",
      "weighted avg       0.91      0.84      0.84        90\n",
      "\n",
      "\n"
     ]
    }
   ],
   "source": [
    "print(\"Classification report for classifier %s:\\n%s\\n\"\n",
    "      % (classifier, classification_report(y_test, y_pred)))"
   ]
  },
  {
   "cell_type": "code",
   "execution_count": 11,
   "metadata": {},
   "outputs": [
    {
     "name": "stdout",
     "output_type": "stream",
     "text": [
      "Confusion matrix:\n",
      "[[2 0 0 ... 0 0 0]\n",
      " [0 1 0 ... 0 0 0]\n",
      " [0 2 2 ... 0 0 0]\n",
      " ...\n",
      " [0 0 0 ... 2 0 0]\n",
      " [0 0 0 ... 0 1 0]\n",
      " [0 0 0 ... 0 0 2]]\n",
      "(35, 35)\n"
     ]
    }
   ],
   "source": [
    "conf_mat = confusion_matrix(y_test, y_pred)\n",
    "print(\"Confusion matrix:\\n%s\" % conf_mat)\n",
    "np.set_printoptions(threshold=np.inf)\n",
    "print(conf_mat.shape)"
   ]
  },
  {
   "cell_type": "code",
   "execution_count": null,
   "metadata": {},
   "outputs": [],
   "source": []
  }
 ],
 "metadata": {
  "kernelspec": {
   "display_name": "Python 3",
   "language": "python",
   "name": "python3"
  },
  "language_info": {
   "codemirror_mode": {
    "name": "ipython",
    "version": 3
   },
   "file_extension": ".py",
   "mimetype": "text/x-python",
   "name": "python",
   "nbconvert_exporter": "python",
   "pygments_lexer": "ipython3",
   "version": "3.8.3"
  }
 },
 "nbformat": 4,
 "nbformat_minor": 4
}
